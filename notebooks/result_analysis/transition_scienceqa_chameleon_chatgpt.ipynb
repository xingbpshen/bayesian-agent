{
 "cells": [
  {
   "cell_type": "code",
   "execution_count": 1,
   "id": "c96ce87d",
   "metadata": {},
   "outputs": [],
   "source": [
    "import os\n",
    "import json\n",
    "import itertools"
   ]
  },
  {
   "cell_type": "markdown",
   "id": "fc356b14",
   "metadata": {},
   "source": [
    "## ScienceQA - Chameleon ChatGPT"
   ]
  },
  {
   "cell_type": "code",
   "execution_count": 2,
   "id": "caf68d77",
   "metadata": {},
   "outputs": [],
   "source": [
    "result_file = \"../../results/scienceqa/chameleon_chatgpt_test_cache.jsonl\"\n",
    "data_file = \"../../data/scienceqa/problems.json\"\n",
    "\n",
    "prob_data = json.load(open(data_file))\n",
    "\n",
    "with open(result_file) as f:\n",
    "    results = {}\n",
    "    for line in f:\n",
    "        try:\n",
    "            data = json.loads(line)\n",
    "            results[data[\"pid\"]] = data\n",
    "        except:\n",
    "            pass"
   ]
  },
  {
   "cell_type": "code",
   "execution_count": 3,
   "id": "6ef888fa",
   "metadata": {},
   "outputs": [],
   "source": [
    "modules_list = []\n",
    "\n",
    "for pid, result in results.items():\n",
    "    modules = result[\"modules:output\"]\n",
    "    if \"program_generator_and_verifier\" in modules:\n",
    "        index = modules.index(\"program_generator_and_verifier\")\n",
    "        nested = []\n",
    "        for module in modules:\n",
    "            if module == \"program_generator_and_verifier\":\n",
    "                nested.append([\"program_generator\", \"program_verifier\"])\n",
    "            else:\n",
    "                nested.append([module])\n",
    "        modules = [m for sublist in nested for m in sublist]\n",
    "        #print(modules)\n",
    "    \n",
    "    modules = [\"START\"] + modules + [\"END\"]\n",
    "    modules_list.append(modules)"
   ]
  },
  {
   "cell_type": "code",
   "execution_count": 4,
   "id": "cf9aa50f",
   "metadata": {},
   "outputs": [],
   "source": [
    "# modules_list"
   ]
  },
  {
   "cell_type": "code",
   "execution_count": 5,
   "id": "31e8f980",
   "metadata": {},
   "outputs": [],
   "source": [
    "transition_num = {\n",
    " \"START\": {},\n",
    " 'knowledge_retrieval': {},\n",
    " 'text_detector': {},\n",
    " 'query_generator': {},\n",
    " 'bing_search': {},\n",
    " 'image_captioner': {},\n",
    "  'solution_generator': {},\n",
    " 'answer_generator': {},\n",
    "}\n",
    "\n",
    "\n",
    "transitions = {\n",
    " \"START\": {},\n",
    " 'knowledge_retrieval': {},\n",
    " 'text_detector': {},\n",
    " 'query_generator': {},\n",
    " 'bing_search': {},\n",
    " 'image_captioner': {},\n",
    "  'solution_generator': {},\n",
    " 'answer_generator': {},\n",
    "}"
   ]
  },
  {
   "cell_type": "code",
   "execution_count": 6,
   "id": "0abcd916",
   "metadata": {},
   "outputs": [],
   "source": [
    "for modules in modules_list:\n",
    "    for i, module in enumerate(modules[:-1]):\n",
    "        next_module = modules[i+1]\n",
    "        if next_module not in transition_num[module]:\n",
    "            transition_num[module][next_module] = 1\n",
    "        else:\n",
    "            transition_num[module][next_module] += 1\n",
    "            \n",
    "        transitions[module][next_module] = round(transition_num[module][next_module] / sum(transition_num[module].values()), 2)"
   ]
  },
  {
   "cell_type": "code",
   "execution_count": 7,
   "id": "0bba55d3",
   "metadata": {},
   "outputs": [
    {
     "data": {
      "text/plain": [
       "{'START': {'knowledge_retrieval': 2464,\n",
       "  'text_detector': 726,\n",
       "  'image_captioner': 330,\n",
       "  'query_generator': 82,\n",
       "  'solution_generator': 639},\n",
       " 'knowledge_retrieval': {'solution_generator': 3027,\n",
       "  'bing_search': 16,\n",
       "  'image_captioner': 3},\n",
       " 'text_detector': {'solution_generator': 243,\n",
       "  'knowledge_retrieval': 409,\n",
       "  'image_captioner': 74},\n",
       " 'query_generator': {'bing_search': 82},\n",
       " 'bing_search': {'solution_generator': 123, 'image_captioner': 1},\n",
       " 'image_captioner': {'knowledge_retrieval': 173,\n",
       "  'solution_generator': 209,\n",
       "  'bing_search': 26},\n",
       " 'solution_generator': {'answer_generator': 4241},\n",
       " 'answer_generator': {'END': 4241}}"
      ]
     },
     "execution_count": 7,
     "metadata": {},
     "output_type": "execute_result"
    }
   ],
   "source": [
    "transition_num"
   ]
  },
  {
   "cell_type": "code",
   "execution_count": 8,
   "id": "e16e1262",
   "metadata": {},
   "outputs": [
    {
     "data": {
      "text/plain": [
       "{'START': {'knowledge_retrieval': 0.58,\n",
       "  'text_detector': 0.17,\n",
       "  'image_captioner': 0.08,\n",
       "  'query_generator': 0.02,\n",
       "  'solution_generator': 0.15},\n",
       " 'knowledge_retrieval': {'solution_generator': 0.99,\n",
       "  'bing_search': 0.01,\n",
       "  'image_captioner': 0.0},\n",
       " 'text_detector': {'solution_generator': 0.34,\n",
       "  'knowledge_retrieval': 0.56,\n",
       "  'image_captioner': 0.1},\n",
       " 'query_generator': {'bing_search': 1.0},\n",
       " 'bing_search': {'solution_generator': 0.99, 'image_captioner': 0.01},\n",
       " 'image_captioner': {'knowledge_retrieval': 0.43,\n",
       "  'solution_generator': 0.51,\n",
       "  'bing_search': 0.06},\n",
       " 'solution_generator': {'answer_generator': 1.0},\n",
       " 'answer_generator': {'END': 1.0}}"
      ]
     },
     "execution_count": 8,
     "metadata": {},
     "output_type": "execute_result"
    }
   ],
   "source": [
    "transitions"
   ]
  },
  {
   "cell_type": "code",
   "execution_count": 9,
   "id": "61b9811b",
   "metadata": {},
   "outputs": [
    {
     "name": "stdout",
     "output_type": "stream",
     "text": [
      "START\n",
      " -> knowledge retrieval: 0.58\n",
      " -> text detector: 0.17\n",
      " -> image captioner: 0.08\n",
      " -> query generator: 0.02\n",
      " -> solution generator: 0.15\n",
      "\n",
      "knowledge retrieval\n",
      " -> solution generator: 0.99\n",
      " -> bing search: 0.01\n",
      " -> image captioner: 0.0\n",
      "\n",
      "text detector\n",
      " -> solution generator: 0.34\n",
      " -> knowledge retrieval: 0.56\n",
      " -> image captioner: 0.1\n",
      "\n",
      "query generator\n",
      " -> bing search: 1.0\n",
      "\n",
      "bing search\n",
      " -> solution generator: 0.99\n",
      " -> image captioner: 0.01\n",
      "\n",
      "image captioner\n",
      " -> knowledge retrieval: 0.43\n",
      " -> solution generator: 0.51\n",
      " -> bing search: 0.06\n",
      "\n",
      "solution generator\n",
      " -> answer generator: 1.0\n",
      "\n",
      "answer generator\n",
      " -> END: 1.0\n",
      "\n"
     ]
    }
   ],
   "source": [
    "for module in transitions:\n",
    "    print(module.replace(\"_\", \" \"))\n",
    "    \n",
    "    next_module = transitions[module]\n",
    "    for m in next_module:\n",
    "        print(f\" -> {m}: {next_module[m]}\".replace(\"_\", \" \"))\n",
    "        \n",
    "    print(\"\")"
   ]
  },
  {
   "cell_type": "code",
   "execution_count": null,
   "id": "190a2fc9",
   "metadata": {},
   "outputs": [],
   "source": []
  }
 ],
 "metadata": {
  "kernelspec": {
   "display_name": "Python 3 (ipykernel)",
   "language": "python",
   "name": "python3"
  },
  "language_info": {
   "codemirror_mode": {
    "name": "ipython",
    "version": 3
   },
   "file_extension": ".py",
   "mimetype": "text/x-python",
   "name": "python",
   "nbconvert_exporter": "python",
   "pygments_lexer": "ipython3",
   "version": "3.8.10"
  }
 },
 "nbformat": 4,
 "nbformat_minor": 5
}
