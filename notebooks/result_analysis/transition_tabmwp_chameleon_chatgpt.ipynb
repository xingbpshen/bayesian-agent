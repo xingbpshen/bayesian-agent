{
 "cells": [
  {
   "cell_type": "code",
   "execution_count": 1,
   "id": "7aa6670f",
   "metadata": {},
   "outputs": [],
   "source": [
    "import os\n",
    "import json\n",
    "import itertools"
   ]
  },
  {
   "cell_type": "markdown",
   "id": "66a7642f",
   "metadata": {},
   "source": [
    "## TabMWP - Chameleon ChatGPT"
   ]
  },
  {
   "cell_type": "code",
   "execution_count": 2,
   "id": "267361ac",
   "metadata": {},
   "outputs": [],
   "source": [
    "result_file = \"../../results/tabmwp/chameleon_chatgpt_test_cache.jsonl\"\n",
    "data_file = \"../../data/tabmwp/problems_test.json\"\n",
    "\n",
    "prob_data = json.load(open(data_file))\n",
    "\n",
    "with open(result_file) as f:\n",
    "    results = {}\n",
    "    for line in f:\n",
    "        try:\n",
    "            data = json.loads(line)\n",
    "            results[data[\"pid\"]] = data\n",
    "        except:\n",
    "            pass"
   ]
  },
  {
   "cell_type": "code",
   "execution_count": 3,
   "id": "eb89cec2",
   "metadata": {},
   "outputs": [],
   "source": [
    "modules_list = []\n",
    "\n",
    "for pid, result in results.items():\n",
    "    modules = result[\"modules:output\"]\n",
    "    if \"program_generator_and_verifier\" in modules:\n",
    "        index = modules.index(\"program_generator_and_verifier\")\n",
    "        nested = []\n",
    "        for module in modules:\n",
    "            if module == \"program_generator_and_verifier\":\n",
    "                nested.append([\"program_generator\", \"program_verifier\"])\n",
    "            else:\n",
    "                nested.append([module])\n",
    "        modules = [m for sublist in nested for m in sublist]\n",
    "        #print(modules)\n",
    "    \n",
    "    modules = [\"START\"] + modules + [\"END\"]\n",
    "    modules_list.append(modules)"
   ]
  },
  {
   "cell_type": "code",
   "execution_count": 4,
   "id": "e20a91ba",
   "metadata": {},
   "outputs": [],
   "source": [
    "# modules_list"
   ]
  },
  {
   "cell_type": "code",
   "execution_count": 5,
   "id": "d75d2237",
   "metadata": {},
   "outputs": [],
   "source": [
    "transition_num = {\n",
    " \"START\": {},\n",
    "'program_generator': {},\n",
    " 'program_verifier': {},\n",
    " 'program_executor': {},\n",
    " 'answer_generator': {},\n",
    " 'row_lookup': {},\n",
    " 'column_lookup': {},\n",
    " 'table_verbalizer': {},\n",
    " 'knowledge_retrieval': {},\n",
    " 'solution_generator': {}\n",
    "}\n",
    "\n",
    "\n",
    "transitions = {\n",
    " \"START\": {},\n",
    "'program_generator': {},\n",
    " 'program_verifier': {},\n",
    " 'program_executor': {},\n",
    " 'answer_generator': {},\n",
    " 'row_lookup': {},\n",
    " 'column_lookup': {},\n",
    " 'table_verbalizer': {},\n",
    " 'knowledge_retrieval': {},\n",
    " 'solution_generator': {}\n",
    "}"
   ]
  },
  {
   "cell_type": "code",
   "execution_count": 6,
   "id": "b2984bb3",
   "metadata": {},
   "outputs": [],
   "source": [
    "for modules in modules_list:\n",
    "    for i, module in enumerate(modules[:-1]):\n",
    "        next_module = modules[i+1]\n",
    "        if next_module not in transition_num[module]:\n",
    "            transition_num[module][next_module] = 1\n",
    "        else:\n",
    "            transition_num[module][next_module] += 1\n",
    "            \n",
    "        transitions[module][next_module] = round(transition_num[module][next_module] / sum(transition_num[module].values()), 2)"
   ]
  },
  {
   "cell_type": "code",
   "execution_count": 7,
   "id": "7963a1e4",
   "metadata": {},
   "outputs": [
    {
     "data": {
      "text/plain": [
       "{'START': {'program_generator': 1395,\n",
       "  'knowledge_retrieval': 1255,\n",
       "  'row_lookup': 3560,\n",
       "  'solution_generator': 1243,\n",
       "  'column_lookup': 228,\n",
       "  'table_verbalizer': 3},\n",
       " 'program_generator': {'program_verifier': 5443},\n",
       " 'program_verifier': {'program_executor': 5443},\n",
       " 'program_executor': {'answer_generator': 5004,\n",
       "  'solution_generator': 428,\n",
       "  'row_lookup': 9,\n",
       "  'knowledge_retrieval': 2},\n",
       " 'answer_generator': {'END': 7684},\n",
       " 'row_lookup': {'table_verbalizer': 194,\n",
       "  'program_generator': 2936,\n",
       "  'solution_generator': 370,\n",
       "  'knowledge_retrieval': 2,\n",
       "  'column_lookup': 71,\n",
       "  'answer_generator': 1},\n",
       " 'column_lookup': {'program_generator': 250,\n",
       "  'row_lookup': 3,\n",
       "  'solution_generator': 45,\n",
       "  'answer_generator': 1},\n",
       " 'table_verbalizer': {'program_generator': 225, 'knowledge_retrieval': 1},\n",
       " 'knowledge_retrieval': {'program_generator': 637,\n",
       "  'solution_generator': 591,\n",
       "  'table_verbalizer': 29,\n",
       "  'answer_generator': 1,\n",
       "  'row_lookup': 2},\n",
       " 'solution_generator': {'answer_generator': 2677}}"
      ]
     },
     "execution_count": 7,
     "metadata": {},
     "output_type": "execute_result"
    }
   ],
   "source": [
    "transition_num"
   ]
  },
  {
   "cell_type": "code",
   "execution_count": 8,
   "id": "9f2d0d88",
   "metadata": {},
   "outputs": [
    {
     "data": {
      "text/plain": [
       "{'START': {'program_generator': 0.18,\n",
       "  'knowledge_retrieval': 0.16,\n",
       "  'row_lookup': 0.46,\n",
       "  'solution_generator': 0.16,\n",
       "  'column_lookup': 0.03,\n",
       "  'table_verbalizer': 0.0},\n",
       " 'program_generator': {'program_verifier': 1.0},\n",
       " 'program_verifier': {'program_executor': 1.0},\n",
       " 'program_executor': {'answer_generator': 0.92,\n",
       "  'solution_generator': 0.08,\n",
       "  'row_lookup': 0.0,\n",
       "  'knowledge_retrieval': 0.0},\n",
       " 'answer_generator': {'END': 1.0},\n",
       " 'row_lookup': {'table_verbalizer': 0.05,\n",
       "  'program_generator': 0.82,\n",
       "  'solution_generator': 0.1,\n",
       "  'knowledge_retrieval': 0.0,\n",
       "  'column_lookup': 0.02,\n",
       "  'answer_generator': 0.0},\n",
       " 'column_lookup': {'program_generator': 0.84,\n",
       "  'row_lookup': 0.02,\n",
       "  'solution_generator': 0.15,\n",
       "  'answer_generator': 0.01},\n",
       " 'table_verbalizer': {'program_generator': 1.0, 'knowledge_retrieval': 0.01},\n",
       " 'knowledge_retrieval': {'program_generator': 0.51,\n",
       "  'solution_generator': 0.47,\n",
       "  'table_verbalizer': 0.03,\n",
       "  'answer_generator': 0.01,\n",
       "  'row_lookup': 0.0},\n",
       " 'solution_generator': {'answer_generator': 1.0}}"
      ]
     },
     "execution_count": 8,
     "metadata": {},
     "output_type": "execute_result"
    }
   ],
   "source": [
    "transitions"
   ]
  },
  {
   "cell_type": "code",
   "execution_count": 9,
   "id": "9dc5b523",
   "metadata": {},
   "outputs": [
    {
     "name": "stdout",
     "output_type": "stream",
     "text": [
      "START\n",
      " -> program generator: 0.18\n",
      " -> knowledge retrieval: 0.16\n",
      " -> row lookup: 0.46\n",
      " -> solution generator: 0.16\n",
      " -> column lookup: 0.03\n",
      " -> table verbalizer: 0.0\n",
      "\n",
      "program generator\n",
      " -> program verifier: 1.0\n",
      "\n",
      "program verifier\n",
      " -> program executor: 1.0\n",
      "\n",
      "program executor\n",
      " -> answer generator: 0.92\n",
      " -> solution generator: 0.08\n",
      " -> row lookup: 0.0\n",
      " -> knowledge retrieval: 0.0\n",
      "\n",
      "answer generator\n",
      " -> END: 1.0\n",
      "\n",
      "row lookup\n",
      " -> table verbalizer: 0.05\n",
      " -> program generator: 0.82\n",
      " -> solution generator: 0.1\n",
      " -> knowledge retrieval: 0.0\n",
      " -> column lookup: 0.02\n",
      " -> answer generator: 0.0\n",
      "\n",
      "column lookup\n",
      " -> program generator: 0.84\n",
      " -> row lookup: 0.02\n",
      " -> solution generator: 0.15\n",
      " -> answer generator: 0.01\n",
      "\n",
      "table verbalizer\n",
      " -> program generator: 1.0\n",
      " -> knowledge retrieval: 0.01\n",
      "\n",
      "knowledge retrieval\n",
      " -> program generator: 0.51\n",
      " -> solution generator: 0.47\n",
      " -> table verbalizer: 0.03\n",
      " -> answer generator: 0.01\n",
      " -> row lookup: 0.0\n",
      "\n",
      "solution generator\n",
      " -> answer generator: 1.0\n",
      "\n"
     ]
    }
   ],
   "source": [
    "for module in transitions:\n",
    "    print(module.replace(\"_\", \" \"))\n",
    "    \n",
    "    next_module = transitions[module]\n",
    "    for m in next_module:\n",
    "        print(f\" -> {m}: {next_module[m]}\".replace(\"_\", \" \"))\n",
    "        \n",
    "    print(\"\")"
   ]
  },
  {
   "cell_type": "code",
   "execution_count": null,
   "id": "44958d18",
   "metadata": {},
   "outputs": [],
   "source": []
  }
 ],
 "metadata": {
  "kernelspec": {
   "display_name": "Python 3 (ipykernel)",
   "language": "python",
   "name": "python3"
  },
  "language_info": {
   "codemirror_mode": {
    "name": "ipython",
    "version": 3
   },
   "file_extension": ".py",
   "mimetype": "text/x-python",
   "name": "python",
   "nbconvert_exporter": "python",
   "pygments_lexer": "ipython3",
   "version": "3.8.10"
  }
 },
 "nbformat": 4,
 "nbformat_minor": 5
}
