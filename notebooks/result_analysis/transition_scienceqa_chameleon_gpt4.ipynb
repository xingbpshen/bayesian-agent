{
 "cells": [
  {
   "cell_type": "code",
   "execution_count": 1,
   "id": "7aa6670f",
   "metadata": {},
   "outputs": [],
   "source": [
    "import os\n",
    "import json\n",
    "import itertools"
   ]
  },
  {
   "cell_type": "markdown",
   "id": "66a7642f",
   "metadata": {},
   "source": [
    "## ScienceQA - Chameleon GPT-4"
   ]
  },
  {
   "cell_type": "code",
   "execution_count": 2,
   "id": "267361ac",
   "metadata": {},
   "outputs": [],
   "source": [
    "result_file = \"../../results/scienceqa/chameleon_gpt4_test_cache.jsonl\"\n",
    "data_file = \"../../data/scienceqa/problems.json\"\n",
    "\n",
    "prob_data = json.load(open(data_file))\n",
    "\n",
    "with open(result_file) as f:\n",
    "    results = {}\n",
    "    for line in f:\n",
    "        try:\n",
    "            data = json.loads(line)\n",
    "            results[data[\"pid\"]] = data\n",
    "        except:\n",
    "            pass"
   ]
  },
  {
   "cell_type": "code",
   "execution_count": 3,
   "id": "eb89cec2",
   "metadata": {},
   "outputs": [],
   "source": [
    "modules_list = []\n",
    "\n",
    "for pid, result in results.items():\n",
    "    modules = result[\"modules:output\"]\n",
    "    if \"program_generator_and_verifier\" in modules:\n",
    "        index = modules.index(\"program_generator_and_verifier\")\n",
    "        nested = []\n",
    "        for module in modules:\n",
    "            if module == \"program_generator_and_verifier\":\n",
    "                nested.append([\"program_generator\", \"program_verifier\"])\n",
    "            else:\n",
    "                nested.append([module])\n",
    "        modules = [m for sublist in nested for m in sublist]\n",
    "        #print(modules)\n",
    "    \n",
    "    modules = [\"START\"] + modules + [\"END\"]\n",
    "    modules_list.append(modules)"
   ]
  },
  {
   "cell_type": "code",
   "execution_count": 4,
   "id": "e20a91ba",
   "metadata": {},
   "outputs": [],
   "source": [
    "# modules_list"
   ]
  },
  {
   "cell_type": "code",
   "execution_count": 5,
   "id": "d75d2237",
   "metadata": {},
   "outputs": [],
   "source": [
    "transition_num = {\n",
    " \"START\": {},\n",
    " 'knowledge_retrieval': {},\n",
    " 'text_detector': {},\n",
    " 'query_generator': {},\n",
    " 'bing_search': {},\n",
    " 'image_captioner': {},\n",
    "  'solution_generator': {},\n",
    " 'answer_generator': {},\n",
    "}\n",
    "\n",
    "\n",
    "transitions = {\n",
    " \"START\": {},\n",
    " 'knowledge_retrieval': {},\n",
    " 'text_detector': {},\n",
    " 'query_generator': {},\n",
    " 'bing_search': {},\n",
    " 'image_captioner': {},\n",
    "  'solution_generator': {},\n",
    " 'answer_generator': {},\n",
    "}"
   ]
  },
  {
   "cell_type": "code",
   "execution_count": 6,
   "id": "b2984bb3",
   "metadata": {},
   "outputs": [],
   "source": [
    "for modules in modules_list:\n",
    "    for i, module in enumerate(modules[:-1]):\n",
    "        next_module = modules[i+1]\n",
    "        if next_module not in transition_num[module]:\n",
    "            transition_num[module][next_module] = 1\n",
    "        else:\n",
    "            transition_num[module][next_module] += 1\n",
    "            \n",
    "        transitions[module][next_module] = round(transition_num[module][next_module] / sum(transition_num[module].values()), 2)"
   ]
  },
  {
   "cell_type": "code",
   "execution_count": 7,
   "id": "7963a1e4",
   "metadata": {},
   "outputs": [
    {
     "data": {
      "text/plain": [
       "{'START': {'knowledge_retrieval': 2241,\n",
       "  'text_detector': 1257,\n",
       "  'query_generator': 471,\n",
       "  'image_captioner': 272},\n",
       " 'knowledge_retrieval': {'solution_generator': 3443, 'bing_search': 5},\n",
       " 'text_detector': {'knowledge_retrieval': 981, 'solution_generator': 276},\n",
       " 'query_generator': {'bing_search': 473},\n",
       " 'bing_search': {'solution_generator': 465,\n",
       "  'knowledge_retrieval': 10,\n",
       "  'image_captioner': 3},\n",
       " 'image_captioner': {'knowledge_retrieval': 216,\n",
       "  'solution_generator': 57,\n",
       "  'query_generator': 2},\n",
       " 'solution_generator': {'answer_generator': 4241},\n",
       " 'answer_generator': {'END': 4241}}"
      ]
     },
     "execution_count": 7,
     "metadata": {},
     "output_type": "execute_result"
    }
   ],
   "source": [
    "transition_num"
   ]
  },
  {
   "cell_type": "code",
   "execution_count": 8,
   "id": "9f2d0d88",
   "metadata": {},
   "outputs": [
    {
     "data": {
      "text/plain": [
       "{'START': {'knowledge_retrieval': 0.53,\n",
       "  'text_detector': 0.3,\n",
       "  'query_generator': 0.11,\n",
       "  'image_captioner': 0.06},\n",
       " 'knowledge_retrieval': {'solution_generator': 1.0, 'bing_search': 0.0},\n",
       " 'text_detector': {'knowledge_retrieval': 0.78, 'solution_generator': 0.22},\n",
       " 'query_generator': {'bing_search': 1.0},\n",
       " 'bing_search': {'solution_generator': 0.97,\n",
       "  'knowledge_retrieval': 0.02,\n",
       "  'image_captioner': 0.01},\n",
       " 'image_captioner': {'knowledge_retrieval': 0.79,\n",
       "  'solution_generator': 0.21,\n",
       "  'query_generator': 0.01},\n",
       " 'solution_generator': {'answer_generator': 1.0},\n",
       " 'answer_generator': {'END': 1.0}}"
      ]
     },
     "execution_count": 8,
     "metadata": {},
     "output_type": "execute_result"
    }
   ],
   "source": [
    "transitions"
   ]
  },
  {
   "cell_type": "code",
   "execution_count": 9,
   "id": "9dc5b523",
   "metadata": {},
   "outputs": [
    {
     "name": "stdout",
     "output_type": "stream",
     "text": [
      "START\n",
      " -> knowledge retrieval: 0.53\n",
      " -> text detector: 0.3\n",
      " -> query generator: 0.11\n",
      " -> image captioner: 0.06\n",
      "\n",
      "knowledge retrieval\n",
      " -> solution generator: 1.0\n",
      " -> bing search: 0.0\n",
      "\n",
      "text detector\n",
      " -> knowledge retrieval: 0.78\n",
      " -> solution generator: 0.22\n",
      "\n",
      "query generator\n",
      " -> bing search: 1.0\n",
      "\n",
      "bing search\n",
      " -> solution generator: 0.97\n",
      " -> knowledge retrieval: 0.02\n",
      " -> image captioner: 0.01\n",
      "\n",
      "image captioner\n",
      " -> knowledge retrieval: 0.79\n",
      " -> solution generator: 0.21\n",
      " -> query generator: 0.01\n",
      "\n",
      "solution generator\n",
      " -> answer generator: 1.0\n",
      "\n",
      "answer generator\n",
      " -> END: 1.0\n",
      "\n"
     ]
    }
   ],
   "source": [
    "for module in transitions:\n",
    "    print(module.replace(\"_\", \" \"))\n",
    "    \n",
    "    next_module = transitions[module]\n",
    "    for m in next_module:\n",
    "        print(f\" -> {m}: {next_module[m]}\".replace(\"_\", \" \"))\n",
    "        \n",
    "    print(\"\")"
   ]
  },
  {
   "cell_type": "code",
   "execution_count": null,
   "id": "44958d18",
   "metadata": {},
   "outputs": [],
   "source": []
  }
 ],
 "metadata": {
  "kernelspec": {
   "display_name": "Python 3 (ipykernel)",
   "language": "python",
   "name": "python3"
  },
  "language_info": {
   "codemirror_mode": {
    "name": "ipython",
    "version": 3
   },
   "file_extension": ".py",
   "mimetype": "text/x-python",
   "name": "python",
   "nbconvert_exporter": "python",
   "pygments_lexer": "ipython3",
   "version": "3.8.10"
  }
 },
 "nbformat": 4,
 "nbformat_minor": 5
}
