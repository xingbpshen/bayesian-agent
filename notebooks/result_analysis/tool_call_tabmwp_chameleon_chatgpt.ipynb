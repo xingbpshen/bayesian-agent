{
 "cells": [
  {
   "cell_type": "code",
   "execution_count": 1,
   "id": "d0ecbaa2",
   "metadata": {},
   "outputs": [],
   "source": [
    "import os\n",
    "import json\n",
    "import pandas as pd\n",
    "\n",
    "import warnings\n",
    "warnings.filterwarnings(\"ignore\")"
   ]
  },
  {
   "cell_type": "code",
   "execution_count": 2,
   "id": "c0421b01",
   "metadata": {},
   "outputs": [],
   "source": [
    "# final result (93.27%)\n",
    "result_file = \"../../results/tabmwp/chameleon_chatgpt_test_cache.jsonl\"\n",
    "data_file = \"../../data/tabmwp/problems_test.json\""
   ]
  },
  {
   "cell_type": "code",
   "execution_count": 3,
   "id": "8aee71b8",
   "metadata": {},
   "outputs": [],
   "source": [
    "inventory = ['program_generator',\n",
    " 'program_verifier',\n",
    " 'program_executor',\n",
    " 'answer_generator',\n",
    " 'row_lookup',\n",
    " 'column_lookup',\n",
    " 'table_verbalizer',\n",
    " 'knowledge_retrieval',\n",
    " 'solution_generator',\n",
    "] "
   ]
  },
  {
   "cell_type": "code",
   "execution_count": null,
   "id": "c918ff33",
   "metadata": {},
   "outputs": [],
   "source": [
    "prob_data = json.load(open(data_file))\n",
    "\n",
    "with open(result_file) as f:\n",
    "    results = {}\n",
    "    for line in f:\n",
    "        try:\n",
    "            data = json.loads(line)\n",
    "            results[data[\"pid\"]] = data\n",
    "        except:\n",
    "            pass\n",
    "        \n",
    "test_pids = list(results.keys())\n",
    "len(test_pids)\n",
    "\n",
    "# construct pandas data\n",
    "prob_data = pd.DataFrame(prob_data).T\n",
    "res_pd = prob_data[prob_data.index.isin(test_pids)]  # test set\n",
    "\n",
    "# update data\n",
    "for index, row in res_pd.iterrows():\n",
    "    result = results[index]\n",
    "    \n",
    "    res_pd.loc[index, 'true_false'] = result['true_false']\n",
    "    \n",
    "    modules = result[\"modules:output\"]\n",
    "    \n",
    "    #print(\"before\", modules)\n",
    "    if \"program_generator_and_verifier\" in modules:\n",
    "        nested = []\n",
    "        for module in modules:\n",
    "            if module == \"program_generator_and_verifier\":\n",
    "                nested.append([\"program_generator\", \"program_verifier\"])\n",
    "            else:\n",
    "                nested.append([module])\n",
    "        modules = [m for sublist in nested for m in sublist]\n",
    "    #print(\"after\", modules)\n",
    "    #print(\"\")\n",
    "    \n",
    "    res_pd.loc[index, 'modules'] = str(modules)\n",
    "    res_pd.loc[index, 'num_modules'] = int(len(modules))\n",
    "    \n",
    "    for module in inventory:\n",
    "        res_pd.loc[index, module] = True if module in modules else False"
   ]
  },
  {
   "cell_type": "code",
   "execution_count": null,
   "id": "b0a0d732",
   "metadata": {},
   "outputs": [],
   "source": [
    "res_pd"
   ]
  },
  {
   "cell_type": "code",
   "execution_count": 5,
   "id": "19148591",
   "metadata": {},
   "outputs": [],
   "source": [
    "def get_num_with_contion(res_pd, key, values):\n",
    "    if isinstance(values, list):\n",
    "        total_pd = res_pd[res_pd[key].isin(values)]\n",
    "    else:\n",
    "        total_pd = res_pd[res_pd[key] == values]\n",
    "        \n",
    "    if len(res_pd) > 0:\n",
    "        percent = \"{:.2f}\".format(len(total_pd) / len(res_pd) * 100)\n",
    "    else:\n",
    "        percent = None\n",
    "    return percent"
   ]
  },
  {
   "cell_type": "code",
   "execution_count": 6,
   "id": "9f009768",
   "metadata": {},
   "outputs": [
    {
     "name": "stdout",
     "output_type": "stream",
     "text": [
      "program_generator 70.84 29.16\n",
      "program_verifier 70.84 29.16\n",
      "program_executor 70.84 29.16\n",
      "answer_generator 100.00 0.00\n",
      "row_lookup 46.51 53.49\n",
      "column_lookup 3.89 96.11\n",
      "table_verbalizer 2.94 97.06\n",
      "knowledge_retrieval 16.40 83.60\n",
      "solution_generator 34.84 65.16\n"
     ]
    }
   ],
   "source": [
    "for module in inventory:\n",
    "    use_num = get_num_with_contion(res_pd, module, True)\n",
    "    nouse_num = get_num_with_contion(res_pd, module, False)\n",
    "    print(module, use_num, nouse_num)"
   ]
  },
  {
   "cell_type": "code",
   "execution_count": null,
   "id": "1f7819da",
   "metadata": {},
   "outputs": [],
   "source": []
  }
 ],
 "metadata": {
  "kernelspec": {
   "display_name": "Python 3 (ipykernel)",
   "language": "python",
   "name": "python3"
  },
  "language_info": {
   "codemirror_mode": {
    "name": "ipython",
    "version": 3
   },
   "file_extension": ".py",
   "mimetype": "text/x-python",
   "name": "python",
   "nbconvert_exporter": "python",
   "pygments_lexer": "ipython3",
   "version": "3.9.1rc1"
  }
 },
 "nbformat": 4,
 "nbformat_minor": 5
}
